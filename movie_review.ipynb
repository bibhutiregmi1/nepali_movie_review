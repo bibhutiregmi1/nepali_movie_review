{
 "cells": [
  {
   "cell_type": "code",
   "execution_count": 1,
   "metadata": {},
   "outputs": [],
   "source": [
    "import pandas as pd\n",
    "import matplotlib.pyplot as plt\n",
    "import numpy as np\n",
    "import seaborn as sns\n",
    "\n",
    "import re"
   ]
  },
  {
   "cell_type": "code",
   "execution_count": 31,
   "metadata": {},
   "outputs": [],
   "source": [
    "df = pd.read_json('data/data.json')"
   ]
  },
  {
   "cell_type": "code",
   "execution_count": 21,
   "metadata": {},
   "outputs": [],
   "source": [
    "# df=df.fillna('na')"
   ]
  },
  {
   "cell_type": "code",
   "execution_count": 40,
   "metadata": {},
   "outputs": [
    {
     "data": {
      "text/plain": [
       "Index(['genre', 'imdb_url', 'plot', 'rating', 'runtime', 'title', 'votes',\n",
       "       'year', 'ratingRange'],\n",
       "      dtype='object')"
      ]
     },
     "execution_count": 40,
     "metadata": {},
     "output_type": "execute_result"
    }
   ],
   "source": [
    "df.columns"
   ]
  },
  {
   "cell_type": "code",
   "execution_count": 41,
   "metadata": {},
   "outputs": [],
   "source": [
    "df = df[['genre', 'rating', 'runtime', 'title', 'votes',\n",
    "       'year','ratingRange']]"
   ]
  },
  {
   "cell_type": "markdown",
   "metadata": {},
   "source": [
    "## rating category"
   ]
  },
  {
   "cell_type": "code",
   "execution_count": 52,
   "metadata": {},
   "outputs": [],
   "source": [
    "bins = [0, 5, 7, 10]\n",
    "names = ['low', 'average', 'high']\n",
    "\n",
    "df['ratingRange'] = pd.cut(df['rating'], bins, labels=names)"
   ]
  },
  {
   "cell_type": "markdown",
   "metadata": {},
   "source": [
    "### runtime category"
   ]
  },
  {
   "cell_type": "code",
   "execution_count": 51,
   "metadata": {},
   "outputs": [],
   "source": [
    "bins = [0, 60, 120, 200]\n",
    "names = ['<60', '60-120', '>120mins']\n",
    "\n",
    "df['runtimeRange'] = pd.cut(df['runtime'], bins, labels=names)"
   ]
  },
  {
   "cell_type": "code",
   "execution_count": 46,
   "metadata": {},
   "outputs": [],
   "source": [
    "df = pd.read_csv('movie_review.csv')"
   ]
  },
  {
   "cell_type": "code",
   "execution_count": 57,
   "metadata": {},
   "outputs": [
    {
     "data": {
      "text/plain": [
       "7.0      27\n",
       "5.0      24\n",
       "6.0      21\n",
       "8.0      18\n",
       "9.0      13\n",
       "19.0      8\n",
       "10.0      8\n",
       "12.0      8\n",
       "17.0      7\n",
       "16.0      6\n",
       "18.0      5\n",
       "23.0      5\n",
       "11.0      4\n",
       "26.0      4\n",
       "25.0      4\n",
       "31.0      4\n",
       "24.0      4\n",
       "13.0      4\n",
       "21.0      4\n",
       "52.0      3\n",
       "27.0      3\n",
       "20.0      3\n",
       "14.0      3\n",
       "22.0      3\n",
       "37.0      3\n",
       "194.0     2\n",
       "66.0      2\n",
       "29.0      2\n",
       "30.0      2\n",
       "38.0      2\n",
       "         ..\n",
       "157.0     1\n",
       "253.0     1\n",
       "426.0     1\n",
       "153.0     1\n",
       "159.0     1\n",
       "137.0     1\n",
       "434.0     1\n",
       "466.0     1\n",
       "746.0     1\n",
       "249.0     1\n",
       "650.0     1\n",
       "397.0     1\n",
       "72.0      1\n",
       "61.0      1\n",
       "58.0      1\n",
       "88.0      1\n",
       "47.0      1\n",
       "78.0      1\n",
       "35.0      1\n",
       "59.0      1\n",
       "42.0      1\n",
       "15.0      1\n",
       "65.0      1\n",
       "39.0      1\n",
       "41.0      1\n",
       "54.0      1\n",
       "34.0      1\n",
       "343.0     1\n",
       "28.0      1\n",
       "290.0     1\n",
       "Name: votes, Length: 78, dtype: int64"
      ]
     },
     "execution_count": 57,
     "metadata": {},
     "output_type": "execute_result"
    }
   ],
   "source": [
    "df.votes.value_counts()"
   ]
  },
  {
   "cell_type": "code",
   "execution_count": 53,
   "metadata": {},
   "outputs": [],
   "source": [
    "df.to_csv('movie_review.csv',index=False)"
   ]
  },
  {
   "cell_type": "markdown",
   "metadata": {},
   "source": [
    "### Genre Analysis"
   ]
  },
  {
   "cell_type": "code",
   "execution_count": 6,
   "metadata": {},
   "outputs": [
    {
     "data": {
      "text/plain": [
       "<matplotlib.axes._subplots.AxesSubplot at 0x7f9abbbed198>"
      ]
     },
     "execution_count": 6,
     "metadata": {},
     "output_type": "execute_result"
    },
    {
     "data": {
      "image/png": "[encoded data removed]",
      "text/plain": [
       "<Figure size 432x288 with 1 Axes>"
      ]
     },
     "metadata": {
      "needs_background": "light"
     },
     "output_type": "display_data"
    }
   ],
   "source": [
    "df['genre'].value_counts().nlargest(10).plot(kind='bar')"
   ]
  },
  {
   "cell_type": "code",
   "execution_count": 7,
   "metadata": {},
   "outputs": [],
   "source": [
    "\n",
    "genre_list = ['drama', 'romance', 'comedy', 'biography', 'documentary', 'crime', 'thriller', 'action', 'music']"
   ]
  },
  {
   "cell_type": "code",
   "execution_count": 9,
   "metadata": {},
   "outputs": [],
   "source": [
    "count_map = {}\n",
    "for genre in genre_list:\n",
    "    count_map[genre] = len(df['genre'].dropna().apply(lambda x : genre if genre in x.lower() else None).dropna())"
   ]
  },
  {
   "cell_type": "code",
   "execution_count": 13,
   "metadata": {},
   "outputs": [],
   "source": [
    "types = np.array(list(count_map.keys()))\n",
    "\n",
    "counts = np.array(list(count_map.values()))"
   ]
  },
  {
   "cell_type": "code",
   "execution_count": 15,
   "metadata": {},
   "outputs": [
    {
     "data": {
      "text/plain": [
       "Text(0.5, 1.0, 'Nepali Movie Genre')"
      ]
     },
     "execution_count": 15,
     "metadata": {},
     "output_type": "execute_result"
    },
    {
     "data": {
      "image/png": "[encoded data removed]",
      "text/plain": [
       "<Figure size 1080x720 with 1 Axes>"
      ]
     },
     "metadata": {
      "needs_background": "light"
     },
     "output_type": "display_data"
    }
   ],
   "source": [
    "\n",
    "figsize = plt.rcParams['figure.figsize']\n",
    "plt.rcParams['figure.figsize'] = [15, 10]\n",
    "y_pos = np.arange(len(types))\n",
    "plt.bar(y_pos, counts, align='center', alpha=0.5)\n",
    "plt.xticks(y_pos, types)\n",
    "plt.ylabel('Movie Counts')\n",
    "plt.title('Nepali Movie Genre')"
   ]
  },
  {
   "cell_type": "code",
   "execution_count": null,
   "metadata": {},
   "outputs": [],
   "source": []
  }
 ],
 "metadata": {
  "kernelspec": {
   "display_name": "Python 3",
   "language": "python",
   "name": "python3"
  },
  "language_info": {
   "codemirror_mode": {
    "name": "ipython",
    "version": 3
   },
   "file_extension": ".py",
   "mimetype": "text/x-python",
   "name": "python",
   "nbconvert_exporter": "python",
   "pygments_lexer": "ipython3",
   "version": "3.6.9"
  }
 },
 "nbformat": 4,
 "nbformat_minor": 2
}
